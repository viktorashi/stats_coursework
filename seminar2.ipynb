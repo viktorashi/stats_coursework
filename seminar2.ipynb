{
 "cells": [
  {
   "metadata": {},
   "cell_type": "markdown",
   "source": [
    "Poate se mai pune sa fac homework-u 1 doamne ajuta (stiu cat timp a trecut dar daca tot am facut si coursworku...)\n",
    "\n",
    "### La prob 4"
   ],
   "id": "c40a7632d8e5ea68"
  },
  {
   "metadata": {
    "ExecuteTime": {
     "end_time": "2025-01-18T23:17:21.440256Z",
     "start_time": "2025-01-18T23:17:21.384384Z"
    }
   },
   "cell_type": "code",
   "source": [
    "import numpy as np\n",
    "\n",
    "weekly_study_hours = [4,6,8,3,5,7,9,10,2,6,8,5,6,11,7]\n",
    "first_quartile = np.percentile(weekly_study_hours, 25)\n",
    "third_quartile = np.percentile(weekly_study_hours, 75)\n",
    "median = np.median(weekly_study_hours)\n",
    "\n",
    "print(\"First quartile: \", first_quartile)\n",
    "print(\"Third quartile: \", third_quartile)\n",
    "print(\"Median: \", median)\n",
    "\n",
    "weekly_study_hours.sort()\n",
    "print(\"datele sa le vad mai bine: \", weekly_study_hours)\n",
    "\n",
    "#draw a boxplot\n",
    "import matplotlib.pyplot as plt\n",
    "plt.boxplot(weekly_study_hours)\n",
    "plt.show()\n"
   ],
   "id": "94941b9df551309",
   "outputs": [
    {
     "name": "stdout",
     "output_type": "stream",
     "text": [
      "First quartile:  5.0\n",
      "Third quartile:  8.0\n",
      "Median:  6.0\n",
      "datele sa le vad mai bine:  [2, 3, 4, 5, 5, 6, 6, 6, 7, 7, 8, 8, 9, 10, 11]\n"
     ]
    },
    {
     "data": {
      "text/plain": [
       "<Figure size 640x480 with 1 Axes>"
      ],
      "image/png": "[encoded data removed]"
     },
     "metadata": {},
     "output_type": "display_data"
    }
   ],
   "execution_count": 39
  },
  {
   "metadata": {},
   "cell_type": "markdown",
   "source": "AAsa, e mai jos medianu. Nu intelego chestie, pana si la ei in documantatie zic ca fac whiskerii de aceeasi lungime :https://matplotlib.org/stable/api/_as_gen/matplotlib.pyplot.boxplot.html \" The whiskers extend from the box to the farthest data point lying within 1.5x the inter-quartile range (IQR) from the box\" deci n-au cum sa fie de lungimi diferite nu?",
   "id": "d21b7e185c6f5868"
  },
  {
   "metadata": {
    "ExecuteTime": {
     "end_time": "2025-01-18T23:17:21.451969Z",
     "start_time": "2025-01-18T23:17:21.448031Z"
    }
   },
   "cell_type": "code",
   "source": [
    "\n",
    "IQR = third_quartile - first_quartile\n",
    "print(\"IQR: \", IQR)\n",
    "whisker_length = 1.5 * IQR\n",
    "\n",
    "lower_whisker = first_quartile - whisker_length\n",
    "upper_whisker = third_quartile + whisker_length\n",
    "\n",
    "print(\"Lower whisker: \", lower_whisker)\n",
    "print(\"Upper whisker: \", upper_whisker)\n",
    "\n",
    "outliers = []\n",
    "for hours in weekly_study_hours:\n",
    "    if hours <= lower_whisker or hours >= upper_whisker:\n",
    "        outliers.append(hours)\n",
    "\n",
    "if len(outliers) == 0:\n",
    "    print(\"No outliers\")\n",
    "else:\n",
    "    print(\"Outliers: \", outliers)\n"
   ],
   "id": "10e279eb42bc2030",
   "outputs": [
    {
     "name": "stdout",
     "output_type": "stream",
     "text": [
      "IQR:  3.0\n",
      "Lower whisker:  0.5\n",
      "Upper whisker:  12.5\n",
      "No outliers\n"
     ]
    }
   ],
   "execution_count": 40
  },
  {
   "metadata": {},
   "cell_type": "markdown",
   "source": "dep, we good",
   "id": "b3c3790bf435544e"
  },
  {
   "metadata": {},
   "cell_type": "markdown",
   "source": [
    "### Prob 5\n",
    "\n",
    "\n"
   ],
   "id": "6191341450d21f68"
  },
  {
   "metadata": {
    "ExecuteTime": {
     "end_time": "2025-01-18T23:17:21.543671Z",
     "start_time": "2025-01-18T23:17:21.475989Z"
    }
   },
   "cell_type": "code",
   "source": [
    "student_heights = np.array([162, 167, 170, 155, 165, 160, 168, 172, 163, 159, 166, 169, 173, 161, 164])\n",
    "student_heights.sort()\n",
    "print(\"Sorted student heights: \", student_heights)\n",
    "\n",
    "#histogram\n",
    "plt.hist(student_heights, bins=5)\n",
    "plt.show()"
   ],
   "id": "a233f6dc959f34e6",
   "outputs": [
    {
     "name": "stdout",
     "output_type": "stream",
     "text": [
      "Sorted student heights:  [155 159 160 161 162 163 164 165 166 167 168 169 170 172 173]\n"
     ]
    },
    {
     "data": {
      "text/plain": [
       "<Figure size 640x480 with 1 Axes>"
      ],
      "image/png": "[encoded data removed]"
     },
     "metadata": {},
     "output_type": "display_data"
    }
   ],
   "execution_count": 41
  },
  {
   "metadata": {},
   "cell_type": "markdown",
   "source": [
    "ce pitikiii\n",
    "\n",
    "Aa deci asta e un stem-leaf plot https://www.mathsisfun.com/data/stem-leaf-plots.html"
   ],
   "id": "1e374c10dc3b4225"
  },
  {
   "metadata": {
    "ExecuteTime": {
     "end_time": "2025-01-18T23:17:21.559229Z",
     "start_time": "2025-01-18T23:17:21.553158Z"
    }
   },
   "cell_type": "code",
   "source": [
    "import pandas as pd\n",
    "\n",
    "#primad ata stemurile, care sunt lista de numere unice din lista de inaltimi obtinute cu /10\n",
    "stems = sorted(list(set([height // 10 for height in student_heights])))\n",
    "#leafurile sunt o lista de liste, care corespund pentru fiecare stem\n",
    "leaves = [[height % 10 for height in student_heights if height // 10 == stem] for stem in stems]\n",
    "#named array gen, o coloana stems si una leaves\n",
    "df = pd.DataFrame({'Stems': stems, 'Leaves': leaves})\n",
    "print(df)\n"
   ],
   "id": "b59d8774ad699e4",
   "outputs": [
    {
     "name": "stdout",
     "output_type": "stream",
     "text": [
      "   Stems                          Leaves\n",
      "0     15                          [5, 9]\n",
      "1     16  [0, 1, 2, 3, 4, 5, 6, 7, 8, 9]\n",
      "2     17                       [0, 2, 3]\n"
     ]
    }
   ],
   "execution_count": 42
  },
  {
   "metadata": {},
   "cell_type": "markdown",
   "source": "aaa ok da chiar poti sa vizualizezi asa",
   "id": "c4bc63111ab34fd8"
  },
  {
   "metadata": {
    "ExecuteTime": {
     "end_time": "2025-01-18T23:17:43.724826Z",
     "start_time": "2025-01-18T23:17:43.714133Z"
    }
   },
   "cell_type": "code",
   "source": [
    "print(\"Meanul (care un pic diferit imi da aici decat pe foaie) \",student_heights.mean())\n",
    "print(\"si std dev: \", student_heights.std())"
   ],
   "id": "4fe090c77a19e80a",
   "outputs": [
    {
     "name": "stdout",
     "output_type": "stream",
     "text": [
      "Meanul (care un pic diferit imi da aici decat pe foaie)  164.93333333333334\n",
      "si std dev:  4.891716354091771\n"
     ]
    }
   ],
   "execution_count": 44
  },
  {
   "metadata": {},
   "cell_type": "markdown",
   "source": [
    "### Problema 6\n",
    "\n",
    ".... sincer nu prea mai am mult ce sa adaug =))\n",
    "as putea sa fac un desen sau cv da se cam umple ecranu\n",
    "\n",
    " <small>anyway...</small>\n",
    " ### Problema 7\n"
   ],
   "id": "7e05c62693bcd187"
  },
  {
   "metadata": {
    "ExecuteTime": {
     "end_time": "2025-01-18T23:34:43.993953Z",
     "start_time": "2025-01-18T23:34:43.962632Z"
    }
   },
   "cell_type": "code",
   "source": [
    "employee_monthly_income = np.array([3000, 3500, 4000, 3800, 4200, 3900, 4500, 4300, 5000, 5500, 6000, 7000])\n",
    "employee_monthly_income.sort()\n",
    "print(\"Sorted employee monthly income: \", employee_monthly_income)\n",
    "print(\"Mean: \", employee_monthly_income.mean())\n",
    "print(\"Median: \", np.median(employee_monthly_income))\n",
    "#vine ceo-u\n",
    "ceo_sallary = 20000\n",
    "employees_cu_ceo = np.append(employee_monthly_income, ceo_sallary)\n",
    "print(\"Mean with CEO aoaloo: \", employees_cu_ceo.mean())\n",
    "print(\"Da normal ca ramane medianu la: \", np.median(employees_cu_ceo))\n",
    "print(f\"wait what nu, s-a schimbat medianu? probabil ca s-a dat shift la mijloc in dreapta un pic si acum face media dintre 2 valori ca sa afle medianu ca devine din {employee_monthly_income.size} in {employees_cu_ceo.size}  si se face impar\")\n",
    "\n",
    "print('std inainte: ', employee_monthly_income.std())\n",
    "print('std dupa: ', employees_cu_ceo.std())\n",
    "print('deci da, chiar influenteaza mult mai mult std decat medianu, ia si daca facem calculu acela de 1.5X IQR')\n",
    "\n",
    "IQR = np.percentile(employees_cu_ceo, 75) - np.percentile(employees_cu_ceo, 25)\n",
    "whisker_length = 1.5 * IQR\n",
    "lower_whisker = np.percentile(employees_cu_ceo, 25) - whisker_length\n",
    "upper_whisker = np.percentile(employees_cu_ceo, 75) + whisker_length\n",
    "\n",
    "print(\"Lower whisker: \", lower_whisker)\n",
    "print(\"Upper whisker: \", upper_whisker)\n",
    "\n",
    "outliers = []\n",
    "for income in employees_cu_ceo:\n",
    "    if income <= lower_whisker or income >= upper_whisker:\n",
    "        outliers.append(income)\n",
    "\n",
    "if len(outliers) == 0:\n",
    "    print(\"No outliers\")\n",
    "else:\n",
    "    print(\"Outliers: \", outliers)\n",
    "\n",
    "\n"
   ],
   "id": "dd0d6de245e07f70",
   "outputs": [
    {
     "name": "stdout",
     "output_type": "stream",
     "text": [
      "Sorted employee monthly income:  [3000 3500 3800 3900 4000 4200 4300 4500 5000 5500 6000 7000]\n",
      "Mean:  4558.333333333333\n",
      "Median:  4250.0\n",
      "Mean with CEO aoaloo:  5746.153846153846\n",
      "Da normal ca ramane medianu la:  4300.0\n",
      "wait what nu, s-a schimbat medianu? probabil ca s-a dat shift la mijloc in dreapta un pic si acum face media dintre 2 valori ca sa afle medianu ca devine din 12 in 13  si se face impar\n",
      "std inainte:  1087.3962274881937\n",
      "std dupa:  4245.289767153779\n",
      "deci da, chiar influenteaza mult mai mult std decat medianu, ia si daca facem calculu acela de 1.5X IQR\n",
      "Lower whisker:  1500.0\n",
      "Upper whisker:  7900.0\n",
      "Outliers:  [np.int64(20000)]\n"
     ]
    }
   ],
   "execution_count": 53
  },
  {
   "metadata": {},
   "cell_type": "markdown",
   "source": [
    "### Center limit theorem\n",
    "\n",
    "incerc sa arat ca e adevarata chestia asta luand (va in propblema) mai multe valori random dintr-o distributie uniforma, si scot de acl prin magie distributie normala"
   ],
   "id": "e5316d7f4cfb72ed"
  },
  {
   "metadata": {
    "ExecuteTime": {
     "end_time": "2025-01-18T23:43:34.087370Z",
     "start_time": "2025-01-18T23:43:33.960252Z"
    }
   },
   "cell_type": "code",
   "source": [
    "import numpy as np\n",
    "\n",
    "#generam 100 de valori random din distributia uniforma\n",
    "uniform_values = np.random.uniform(0, 1, 100)\n",
    "#scadem media si impartim la deviatia standard a distributiei uniforme\n",
    "z_values = (uniform_values - uniform_values.mean()) / uniform_values.std()\n",
    "\n",
    "print(\"Mean of z values: \", z_values.mean())\n",
    "print(\"Std of z values: \", z_values.std())\n",
    "\n",
    "#histograma\n",
    "plt.hist(z_values, bins=10)\n",
    "\n",
    "plt.show()\n",
    "\n",
    "\n",
    "\n"
   ],
   "id": "3469dafa2cc879e2",
   "outputs": [
    {
     "name": "stdout",
     "output_type": "stream",
     "text": [
      "Mean of z values:  2.842170943040401e-16\n",
      "Std of z values:  1.0\n"
     ]
    },
    {
     "data": {
      "text/plain": [
       "<Figure size 640x480 with 1 Axes>"
      ],
      "image/png": "[encoded data removed]"
     },
     "metadata": {},
     "output_type": "display_data"
    }
   ],
   "execution_count": 54
  }
 ],
 "metadata": {
  "kernelspec": {
   "display_name": "Python 3",
   "language": "python",
   "name": "python3"
  },
  "language_info": {
   "codemirror_mode": {
    "name": "ipython",
    "version": 2
   },
   "file_extension": ".py",
   "mimetype": "text/x-python",
   "name": "python",
   "nbconvert_exporter": "python",
   "pygments_lexer": "ipython2",
   "version": "2.7.6"
  }
 },
 "nbformat": 4,
 "nbformat_minor": 5
}
