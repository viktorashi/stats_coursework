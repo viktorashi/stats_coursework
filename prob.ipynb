{
 "cells": [
  {
   "cell_type": "code",
   "execution_count": 15,
   "id": "initial_id",
   "metadata": {
    "collapsed": true,
    "id": "initial_id",
    "outputId": "f723144e-4c34-4a29-8e72-0c21c131e48b",
    "colab": {
     "base_uri": "https://localhost:8080/"
    }
   },
   "outputs": [
    {
     "output_type": "stream",
     "name": "stdout",
     "text": [
      "remote: Enumerating objects: 5, done.\u001B[K\n",
      "remote: Counting objects:  20% (1/5)\u001B[K\rremote: Counting objects:  40% (2/5)\u001B[K\rremote: Counting objects:  60% (3/5)\u001B[K\rremote: Counting objects:  80% (4/5)\u001B[K\rremote: Counting objects: 100% (5/5)\u001B[K\rremote: Counting objects: 100% (5/5), done.\u001B[K\n",
      "remote: Compressing objects: 100% (1/1)\u001B[K\rremote: Compressing objects: 100% (1/1), done.\u001B[K\n",
      "remote: Total 3 (delta 2), reused 3 (delta 2), pack-reused 0 (from 0)\u001B[K\n",
      "Unpacking objects:  33% (1/3)\rUnpacking objects:  66% (2/3)\rUnpacking objects: 100% (3/3)\rUnpacking objects: 100% (3/3), 298 bytes | 298.00 KiB/s, done.\n",
      "From https://github.com/viktorashi/stats_coursework\n",
      "   dc9d514..ed4ae56  main       -> origin/main\n",
      "Updating dc9d514..ed4ae56\n",
      "Fast-forward\n",
      " prob.ipynb | 2 \u001B[32m+\u001B[m\u001B[31m-\u001B[m\n",
      " 1 file changed, 1 insertion(+), 1 deletion(-)\n"
     ]
    }
   ],
   "source": [
    "!cd stats_coursework/ && git pull\n"
   ]
  },
  {
   "metadata": {
    "id": "6703e61134f5eaa3"
   },
   "cell_type": "markdown",
   "source": "test test daca macar o sam eagra fara sa se schimbe linku aaa deci chiar mergee??? bruh?? poate asa",
   "id": "6703e61134f5eaa3"
  }
 ],
 "metadata": {
  "kernelspec": {
   "display_name": "Python 3",
   "language": "python",
   "name": "python3"
  },
  "language_info": {
   "codemirror_mode": {
    "name": "ipython",
    "version": 2
   },
   "file_extension": ".py",
   "mimetype": "text/x-python",
   "name": "python",
   "nbconvert_exporter": "python",
   "pygments_lexer": "ipython2",
   "version": "2.7.6"
  },
  "colab": {
   "provenance": []
  }
 },
 "nbformat": 4,
 "nbformat_minor": 5
}
